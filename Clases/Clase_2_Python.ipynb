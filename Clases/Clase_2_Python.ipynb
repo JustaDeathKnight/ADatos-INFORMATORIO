{
  "cells": [
    {
      "cell_type": "markdown",
      "metadata": {
        "id": "_eN4FBnugpXu"
      },
      "source": [
        "# **Atajos de Markdown en Google Colab** **(Bonus)**\n",
        "Atajos más comunes de Markdown para utilizar en **Google Colab**:"
      ]
    },
    {
      "cell_type": "markdown",
      "metadata": {
        "id": "PfiVQ_39gqcS"
      },
      "source": [
        "# **Títulos**\n",
        "Para crear un título, debes colocar el número de signos # correspondiente al nivel del título, seguido de un espacio y el texto del título.\n",
        "**Por ejemplo:**\n",
        "\n",
        "> # Título nivel 1\n",
        "> ## Título nivel 2\n",
        "> ### Título nivel 3"
      ]
    },
    {
      "cell_type": "markdown",
      "metadata": {
        "id": "PK_9kXdMgqn-"
      },
      "source": [
        "# **Negrita** y *cursiva*\n",
        "Para resaltar texto, puedes usar los asteriscos o guiones bajos. Si colocas uno a cada lado del texto, este se mostrará en cursiva. Si colocas dos, se mostrará en negrita.\n",
        "**Por ejemplo:**\n",
        "\n",
        "*Texto en cursiva*\n",
        "**Texto en negrita**"
      ]
    },
    {
      "cell_type": "markdown",
      "metadata": {
        "id": "3dyT0yZ5gqs-"
      },
      "source": [
        "# **Listas**\n",
        "Para crear listas con viñetas, puedes usar un asterisco, un guion o un signo más seguido de un espacio. Para crear listas numeradas, simplemente coloca el número seguido de un punto y un espacio.\n",
        " **Por ejemplo:**\n",
        "\n",
        "- Elemento 1\n",
        "- Elemento 2\n",
        "- Elemento 3\n",
        "\n",
        "1. Elemento 1\n",
        "2. Elemento 2\n",
        "3. Elemento 3\n"
      ]
    },
    {
      "cell_type": "markdown",
      "metadata": {
        "id": "-G0xDqLggqyf"
      },
      "source": [
        "# **Enlaces e imágenes**\n",
        "Para insertar un enlace, debes encerrar el texto del enlace entre corchetes y la URL entre paréntesis. Para insertar una imagen, debes usar una sintaxis similar, pero precediendo la URL con un signo de exclamación. **Por ejemplo:**\n",
        "\n",
        "[Enlace a Google](https://www.google.com)\n",
        "\n",
        "<div>\n",
        "<img src=\"https://upload.wikimedia.org/wikipedia/commons/3/3a/Cat03.jpg\" width=\"500\"/>\n",
        "</div>\n",
        "\n",
        "<!-- ![Imagen de un gato](https://upload.wikimedia.org/wikipedia/commons/3/3a/Cat03.jpg) -->\n"
      ]
    },
    {
      "cell_type": "markdown",
      "metadata": {
        "id": "fpzXD2-FhqRo"
      },
      "source": [
        "# **Código**\n",
        "Para mostrar código, puedes encerrarlo entre comillas invertidas ` o crear bloques de código usando tres comillas invertidas al principio y al final. **Por ejemplo:**\n",
        "\n",
        "`print(\"Hola mundo\")`"
      ]
    },
    {
      "cell_type": "markdown",
      "metadata": {
        "id": "bj_bZ8J7hq1C"
      },
      "source": [
        "# **Citas**\n",
        "Para citar texto, debes colocar el texto entre el signo de mayor que > y un espacio. Puedes anidar citas utilizando varios signos de mayor que. **Por ejemplo:**\n",
        "> Esto es una cita\n",
        ">> Esta es una cita anidada\n"
      ]
    },
    {
      "cell_type": "code",
      "execution_count": null,
      "metadata": {
        "colab": {
          "base_uri": "https://localhost:8080/"
        },
        "id": "fYqvFL0aeP_-",
        "outputId": "d6c01591-bba1-44f1-a588-33e61678c173"
      },
      "outputs": [
        {
          "name": "stdout",
          "output_type": "stream",
          "text": [
            "Hola mundo\n"
          ]
        }
      ],
      "source": [
        "print(\"Hola mundo\")"
      ]
    },
    {
      "cell_type": "code",
      "execution_count": null,
      "metadata": {
        "colab": {
          "base_uri": "https://localhost:8080/"
        },
        "id": "EnJc9ZnFidna",
        "outputId": "a658a7d6-1f6e-4b50-fc43-590922f89e6a"
      },
      "outputs": [
        {
          "name": "stdout",
          "output_type": "stream",
          "text": [
            "juan campias\n"
          ]
        }
      ],
      "source": [
        "nombre = \"juan\"\n",
        "apellido = \"campias\"\n",
        "print(nombre, apellido)"
      ]
    },
    {
      "cell_type": "code",
      "execution_count": null,
      "metadata": {
        "colab": {
          "base_uri": "https://localhost:8080/"
        },
        "id": "EJf-A8ktk6WP",
        "outputId": "b51568ae-f009-49cd-95d7-d053dec5a1c4"
      },
      "outputs": [
        {
          "name": "stdout",
          "output_type": "stream",
          "text": [
            "hola mundo 4.5 False\n",
            "Hola\n"
          ]
        }
      ],
      "source": [
        "print(\"hola mundo\", 4.5, False, end=\"\\n\")\n",
        "print(\"Hola\")"
      ]
    },
    {
      "cell_type": "code",
      "execution_count": null,
      "metadata": {
        "colab": {
          "base_uri": "https://localhost:8080/"
        },
        "id": "a5--2lNzvLag",
        "outputId": "5419ac97-3b40-4bb5-c68f-7afea6b77218"
      },
      "outputs": [
        {
          "name": "stdout",
          "output_type": "stream",
          "text": [
            "juan campias\n"
          ]
        }
      ],
      "source": [
        "nombre = \"juan\"\n",
        "apellido = \"campias\"\n",
        "print(nombre, apellido)"
      ]
    },
    {
      "cell_type": "code",
      "execution_count": null,
      "metadata": {
        "colab": {
          "base_uri": "https://localhost:8080/"
        },
        "id": "LxL46qiDvfbU",
        "outputId": "30efc57c-4bed-4e07-a2d0-8346287de58a"
      },
      "outputs": [
        {
          "name": "stdout",
          "output_type": "stream",
          "text": [
            "Nombre: juan\n"
          ]
        },
        {
          "data": {
            "text/plain": [
              "str"
            ]
          },
          "execution_count": 18,
          "metadata": {},
          "output_type": "execute_result"
        }
      ],
      "source": [
        "input(\"Nombre: \")"
      ]
    },
    {
      "cell_type": "code",
      "execution_count": null,
      "metadata": {
        "colab": {
          "base_uri": "https://localhost:8080/"
        },
        "id": "BeteVrFYvWgE",
        "outputId": "1279bf7c-bdac-4da9-ad99-90214252ee7f"
      },
      "outputs": [
        {
          "name": "stdout",
          "output_type": "stream",
          "text": [
            "Nombre: juan\n",
            "Apellido: CAMPIAS\n"
          ]
        }
      ],
      "source": [
        "nombre = input(\"Nombre: \")\n",
        "apellido = input(\"Apellido: \")\n",
        "apellido_minus = apellido.lower()\n"
      ]
    },
    {
      "cell_type": "code",
      "execution_count": null,
      "metadata": {
        "colab": {
          "base_uri": "https://localhost:8080/"
        },
        "id": "Xh4wjdAzxC-1",
        "outputId": "eecf3f3c-ee9b-4c6d-9586-38a9be9f64a0"
      },
      "outputs": [
        {
          "name": "stdout",
          "output_type": "stream",
          "text": [
            "CAMPIAS\n"
          ]
        }
      ],
      "source": [
        "print(apellido)"
      ]
    },
    {
      "cell_type": "code",
      "execution_count": null,
      "metadata": {
        "colab": {
          "base_uri": "https://localhost:8080/"
        },
        "id": "zgeczBFswwNV",
        "outputId": "eae0491f-1315-4ceb-c09e-30558e7abfe3"
      },
      "outputs": [
        {
          "data": {
            "text/plain": [
              "int"
            ]
          },
          "execution_count": 31,
          "metadata": {},
          "output_type": "execute_result"
        }
      ],
      "source": [
        "apellido.upper().count(\"S\")\n"
      ]
    },
    {
      "cell_type": "code",
      "execution_count": null,
      "metadata": {
        "colab": {
          "base_uri": "https://localhost:8080/"
        },
        "id": "rQLP3MinxbCS",
        "outputId": "2373a600-b4ba-4fe0-e42c-b42ee61890dd"
      },
      "outputs": [
        {
          "name": "stdout",
          "output_type": "stream",
          "text": [
            "hola mundo\n"
          ]
        }
      ],
      "source": [
        "x = \"hola\"\n",
        "y = \" mundo\"\n",
        "\n",
        "print(x+y)"
      ]
    },
    {
      "cell_type": "markdown",
      "metadata": {
        "id": "ocGe7VgSiutn"
      },
      "source": [
        "# **Actividades a resolver en clase:**\n",
        "## Act1: Calcular el área de un triángulo dado su base y altura. Pedir al usuario los valores de la base y la altura utilizando la función input(). Luego, calcular el área del triángulo e imprimir el resultado."
      ]
    },
    {
      "cell_type": "code",
      "execution_count": 1,
      "metadata": {
        "colab": {
          "base_uri": "https://localhost:8080/"
        },
        "id": "fIWynBxjWvoy",
        "outputId": "d60a211f-e540-4635-c116-c14f6b61092c"
      },
      "outputs": [
        {
          "name": "stdout",
          "output_type": "stream",
          "text": [
            "El área del triangulo es: 3.0\n"
          ]
        }
      ],
      "source": [
        "#Resolver ACT1 en esta celda.\n",
        "\n",
        "def area_triangulo(base, altura):\n",
        "    return (base * altura) / 2\n",
        "\n",
        "base = float(input(\"Ingrese la base del triangulo: \"))\n",
        "altura = float(input(\"Ingrese la altura del triangulo: \"))\n",
        "\n",
        "area = area_triangulo(base, altura)\n",
        "print(f\"El área del triangulo es: {area}\")"
      ]
    },
    {
      "cell_type": "markdown",
      "metadata": {
        "id": "YYUMZTkIjHcc"
      },
      "source": [
        "## Act2: Convertir una temperatura en grados Celsius a Fahrenheit. Pedir al usuario el valor de la temperatura en Celsius utilizando la función input(). Luego, convertir la temperatura a Fahrenheit utilizando la fórmula F = (C * 9/5) + 32 e imprimir el resultado."
      ]
    },
    {
      "cell_type": "code",
      "execution_count": null,
      "metadata": {
        "id": "KFIBRoVHjGvT"
      },
      "outputs": [],
      "source": [
        "#Resolver ACT2 en esta celda."
      ]
    },
    {
      "cell_type": "markdown",
      "metadata": {
        "id": "0eoq_tNYWv2-"
      },
      "source": [
        "## Act3: Escribir un programa que pida al usuario dos números y muestre por pantalla su división si el segundo número es distinto de cero, o un mensaje de error en caso contrario."
      ]
    },
    {
      "cell_type": "code",
      "execution_count": null,
      "metadata": {
        "id": "ZOrd2sOMyI_n"
      },
      "outputs": [],
      "source": [
        "#Resolver ACT3 en esta celda."
      ]
    },
    {
      "cell_type": "markdown",
      "metadata": {
        "id": "_GhFfLFujkBE"
      },
      "source": [
        "##Act4: Realizar un programa que lea tres números distintos y nos los muestre ordenados de menor a mayor."
      ]
    },
    {
      "cell_type": "code",
      "execution_count": null,
      "metadata": {
        "id": "S3R25E61jmzq"
      },
      "outputs": [],
      "source": [
        "#Resolver ACT4 en esta celda."
      ]
    },
    {
      "cell_type": "markdown",
      "metadata": {
        "id": "P-OfAMYejkG0"
      },
      "source": [
        "##Act5: Escribir un programa que lea una cadena de texto y muestre por pantalla cuántas veces aparece cada letra del alfabeto en la cadena. El programa debe ignorar los espacios y los caracteres no alfabéticos."
      ]
    },
    {
      "cell_type": "code",
      "execution_count": null,
      "metadata": {
        "id": "hLzmbXCiktG6"
      },
      "outputs": [],
      "source": [
        "#Resolver ACT5 en esta celda.\n",
        "\n",
        "cadena = input(\"Ingrese una cadena de texto: \")\n",
        "frecuencias = {}\n",
        "\n",
        "for caracter in cadena:\n",
        "    if caracter.lower() >= 'a' and caracter.lower() <= 'z':\n",
        "        caracter = caracter.lower()\n",
        "        if caracter in frecuencias:\n",
        "            frecuencias[caracter] += 1\n",
        "        else:\n",
        "            frecuencias[caracter] = 1\n",
        "\n",
        "for letra in 'cadenadetextoestructurada':\n",
        "    if letra in frecuencias:\n",
        "        print(f\"La letra '{letra}' aparece {frecuencias[letra]} veces en la cadena.\")\n",
        "    else:\n",
        "        print(f\"La letra '{letra}' no aparece en la cadena.\")"
      ]
    },
    {
      "cell_type": "code",
      "execution_count": null,
      "metadata": {
        "id": "MBSqid1qMS_S"
      },
      "outputs": [],
      "source": [
        "# Act5 cambiada\n",
        "\n",
        "cadena_inicial = input(\"Ingrese una cadena de texto: \")\n",
        "frecuencias = {}\n",
        "cadena = cadena_inicial.lower()\n",
        "\n",
        "for caracter in cadena:\n",
        "    if 'a' <= caracter <= 'z':\n",
        "        if caracter in frecuencias:\n",
        "            frecuencias[caracter] += 1\n",
        "        else:\n",
        "            frecuencias[caracter] = 1\n",
        "\n",
        "# Respetar snake_case\n",
        "lista_letras = 'abcdefghijklmnñopqrstuvwxyz'\n",
        "\n",
        "for letra in lista_letras:\n",
        "    if letra in frecuencias:\n",
        "        print(f\"La letra '{letra}' aparece {frecuencias[letra]} veces en la cadena.\")\n",
        "    else:\n",
        "        print(f\"La letra '{letra}' no aparece en la cadena.\")\n"
      ]
    },
    {
      "cell_type": "markdown",
      "metadata": {
        "id": "_RjbqYe_jlAE"
      },
      "source": [
        "##Act6: Escribir un programa que pida al usuario un número y muestre por pantalla su valor absoluto."
      ]
    },
    {
      "cell_type": "code",
      "execution_count": null,
      "metadata": {
        "id": "99PiaHL0kt1t"
      },
      "outputs": [],
      "source": [
        "#Resolver ACT6 en esta celda."
      ]
    },
    {
      "cell_type": "markdown",
      "metadata": {
        "id": "59wVDzs_jlL8"
      },
      "source": [
        "##Act7: Escribir un programa que pida al usuario una lista de números separados por comas y muestre por pantalla el producto de dichos números."
      ]
    },
    {
      "cell_type": "code",
      "execution_count": null,
      "metadata": {
        "id": "siHN4ochkyMj"
      },
      "outputs": [],
      "source": [
        "#Resolver ACT7 en esta celda."
      ]
    },
    {
      "cell_type": "markdown",
      "metadata": {
        "id": "K6j2wj94kz0U"
      },
      "source": [
        "##Act8: Escribir un programa que pida al usuario una lista de palabras y las muestre por pantalla ordenadas alfabéticamente."
      ]
    },
    {
      "cell_type": "code",
      "execution_count": null,
      "metadata": {
        "id": "UwaDnytqkz6z"
      },
      "outputs": [],
      "source": [
        "#Resolver ACT8 en esta celda."
      ]
    }
  ],
  "metadata": {
    "colab": {
      "provenance": []
    },
    "kernelspec": {
      "display_name": "Python 3",
      "name": "python3"
    },
    "language_info": {
      "codemirror_mode": {
        "name": "ipython",
        "version": 3
      },
      "file_extension": ".py",
      "mimetype": "text/x-python",
      "name": "python",
      "nbconvert_exporter": "python",
      "pygments_lexer": "ipython3",
      "version": "3.11.5"
    }
  },
  "nbformat": 4,
  "nbformat_minor": 0
}
